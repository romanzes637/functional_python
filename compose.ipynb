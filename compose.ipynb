{
  "nbformat": 4,
  "nbformat_minor": 0,
  "metadata": {
    "colab": {
      "name": "compose.ipynb",
      "version": "0.3.2",
      "provenance": [],
      "include_colab_link": true
    },
    "kernelspec": {
      "name": "python3",
      "display_name": "Python 3"
    }
  },
  "cells": [
    {
      "cell_type": "markdown",
      "metadata": {
        "id": "view-in-github",
        "colab_type": "text"
      },
      "source": [
        "<a href=\"https://colab.research.google.com/github/romanzes637/functional_python/blob/master/compose.ipynb\" target=\"_parent\"><img src=\"https://colab.research.google.com/assets/colab-badge.svg\" alt=\"Open In Colab\"/></a>"
      ]
    },
    {
      "cell_type": "code",
      "metadata": {
        "id": "1LFbFHjdy_f3",
        "colab_type": "code",
        "outputId": "57182feb-1588-4ec8-86d5-5937e354bf3f",
        "colab": {
          "base_uri": "https://localhost:8080/",
          "height": 136
        }
      },
      "source": [
        "from functools import reduce\n",
        "from functools import partial\n",
        "\n",
        "def f(*argv, **kwargs):\n",
        "  print('f: {} {}'.format(argv, kwargs))\n",
        "  return argv, kwargs\n",
        "\n",
        "def g(*argv, **kwargs):\n",
        "  print('g: {} {}'.format(argv, kwargs))\n",
        "  return argv, kwargs\n",
        "\n",
        "def compose(fs, *argv, **kwargs):\n",
        "  return reduce(lambda x, y: y(*x[0], **x[1]), fs, (argv, kwargs))\n",
        "\n",
        "h = partial(compose, [f, g])\n",
        "h('value', key='value')\n",
        "\n",
        "m = partial(compose, [h, f, g])\n",
        "m('value', key='value')"
      ],
      "execution_count": 0,
      "outputs": [
        {
          "output_type": "stream",
          "text": [
            "f: ('value',) {'key': 'value'}\n",
            "g: ('value',) {'key': 'value'}\n",
            "f: ('value',) {'key': 'value'}\n",
            "g: ('value',) {'key': 'value'}\n",
            "f: ('value',) {'key': 'value'}\n",
            "g: ('value',) {'key': 'value'}\n"
          ],
          "name": "stdout"
        },
        {
          "output_type": "execute_result",
          "data": {
            "text/plain": [
              "(('value',), {'key': 'value'})"
            ]
          },
          "metadata": {
            "tags": []
          },
          "execution_count": 29
        }
      ]
    }
  ]
}